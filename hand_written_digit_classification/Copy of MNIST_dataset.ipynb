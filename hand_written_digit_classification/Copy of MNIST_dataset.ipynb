{
 "cells": [
  {
   "cell_type": "markdown",
   "metadata": {
    "id": "09ZYscF9nFLC"
   },
   "source": [
    "# Image Recognition\n",
    "In this notebook, you will create a convolutional neural network to classify images in MNIST dataset."
   ]
  },
  {
   "cell_type": "code",
   "execution_count": 91,
   "metadata": {
    "id": "wP0a9UIVnBWU"
   },
   "outputs": [],
   "source": [
    "# Import TensorFlow and Keras to create the neural network\n",
    "import tensorflow as tf\n",
    "from tensorflow import keras\n",
    "\n",
    "from tensorflow.keras.datasets import mnist\n",
    "from tensorflow.keras import backend as K\n",
    "import numpy as np\n",
    "\n",
    "# Matplotlib to plot info to show the results\n",
    "import matplotlib.pyplot as plt\n",
    "%matplotlib inline"
   ]
  },
  {
   "cell_type": "markdown",
   "metadata": {
    "id": "sN0CYaPpo_LO"
   },
   "source": [
    "# Preparing the MNIST data\n",
    "\n",
    "You'll write the code to load the MNIST data from the files, and add the code that processes it into a format your neural network can use."
   ]
  },
  {
   "cell_type": "markdown",
   "metadata": {
    "id": "nWpRhgJlBy9t"
   },
   "source": [
    "## Load the Data"
   ]
  },
  {
   "cell_type": "code",
   "execution_count": 92,
   "metadata": {
    "id": "M3n3zsd-9crr"
   },
   "outputs": [],
   "source": [
    "# Load the MNIST Data\n",
    "def show_min_max(array, i):\n",
    "  random_image = array[i]\n",
    "  print(\"min and max value in image: \", random_image.min(), random_image.max())"
   ]
  },
  {
   "cell_type": "code",
   "execution_count": 93,
   "metadata": {
    "id": "e22svQw9_DCo"
   },
   "outputs": [],
   "source": [
    "# Create a function that will plot a image from the dataset and display the digit label.\n",
    "def plot_image(array, i, labels):\n",
    "  plt.imshow(np.squeeze(array[i]))\n",
    "  plt.title(\" Digit \" + str(labels[i]))\n",
    "  plt.xticks([])\n",
    "  plt.yticks([])\n",
    "  plt.show()"
   ]
  },
  {
   "cell_type": "code",
   "execution_count": 94,
   "metadata": {
    "id": "w8At-Ixr_qgF"
   },
   "outputs": [],
   "source": [
    "# Create variables for the image row and column to keep track of your image size.\n",
    "img_rows, img_cols=28,28\n",
    "\n",
    "\n",
    "\n",
    "# Create a variable called num_classes and set the value to 10 output classes.\n",
    "num_classes=10"
   ]
  },
  {
   "cell_type": "code",
   "execution_count": 95,
   "metadata": {
    "id": "b1cuJIMCAFKy"
   },
   "outputs": [
    {
     "name": "stdout",
     "output_type": "stream",
     "text": [
      "(60000, 28, 28)\n",
      "(10000, 28, 28)\n"
     ]
    }
   ],
   "source": [
    "# Load the data to train and test the model, as well as the labels to test the data against.\n",
    "(train_images, train_labels), (test_images, test_labels) = mnist.load_data()\n",
    "\n",
    "# Load a backup copy of the untouched data, while the first copy will be processing the data and manipulating it.\n",
    "(train_images_backup, train_labels_backup), (test_images_backup, test_labels_backup) = mnist.load_data()\n",
    "\n",
    "# Print the shape of the training image dataset.\n",
    "print(train_images.shape)\n",
    "\n",
    "# Print the shape of the test image dataset.\n",
    "print(test_images.shape)"
   ]
  },
  {
   "cell_type": "markdown",
   "metadata": {
    "id": "D_mXbfPzCgT1"
   },
   "source": [
    "# Sorting through the Data\n",
    "\n",
    "Data can be formatted in many different ways. However, since the MNIST data is already so well prepared for machine learning applications, there is only a little reshaping or preparation that needs to go into it."
   ]
  },
  {
   "cell_type": "markdown",
   "metadata": {
    "id": "f_6skqF0CqIA"
   },
   "source": [
    "## Data Formatting\n"
   ]
  },
  {
   "cell_type": "code",
   "execution_count": 96,
   "metadata": {
    "id": "8s6JxeSsCubo"
   },
   "outputs": [],
   "source": [
    "# Reshape the training data by converting the list of pixels into a 28x28 grid.\n",
    "train_images = train_images.reshape(train_images.shape[0],  img_rows, img_cols, 1)\n",
    "\n",
    "# Reshape the test data by converting the list of pixels into a 28x28 grid.\n",
    "test_images = test_images.reshape(test_images.shape[0],  img_rows, img_cols, 1)\n",
    "\n",
    "# Create an input_shape variable to keep track of the data's shape.\n",
    "input_shape = (img_rows, img_cols, 1)"
   ]
  },
  {
   "cell_type": "markdown",
   "metadata": {
    "id": "P_MKaRnDDawM"
   },
   "source": [
    "## Data Cleaning"
   ]
  },
  {
   "cell_type": "code",
   "execution_count": 97,
   "metadata": {
    "id": "8H4dgrfTDfBt"
   },
   "outputs": [
    {
     "data": {
      "image/png": "[encoded data removed]",
      "text/plain": [
       "<Figure size 640x480 with 1 Axes>"
      ]
     },
     "metadata": {},
     "output_type": "display_data"
    },
    {
     "name": "stdout",
     "output_type": "stream",
     "text": [
      "min and max value in image:  0 255\n"
     ]
    },
    {
     "data": {
      "image/png": "[encoded data removed]",
      "text/plain": [
       "<Figure size 640x480 with 1 Axes>"
      ]
     },
     "metadata": {},
     "output_type": "display_data"
    },
    {
     "name": "stdout",
     "output_type": "stream",
     "text": [
      "min and max value in image:  0.0 1.0\n"
     ]
    }
   ],
   "source": [
    "# Call the plot_image function to print out the 100th image in train_images.\n",
    "plot_image(train_images, 100, train_labels)\n",
    "\n",
    "# Call the show_min_max function to print the min and max values of the image.\n",
    "show_min_max(train_images, 100)\n",
    "\n",
    "# Change the image values to between 0 and 1, convert that training data into float32.\n",
    "train_images = train_images.astype('float32')\n",
    "\n",
    "# Change the image values to between 0 and 1, convert that test data into float32.\n",
    "test_images = test_images.astype('float32')\n",
    "\n",
    "# Divide the images by 255 to make sure that each pixel is stored as a value between 0 and 1.\n",
    "train_images /= 255\n",
    "test_images /= 255\n",
    "\n",
    "# Call the plot_image function to print out the 100th image in train_images.\n",
    "plot_image(train_images, 100, train_labels)\n",
    "\n",
    "# Call the show_min_max function to print the min and max values of the image.\n",
    "show_min_max(train_images, 100)"
   ]
  },
  {
   "cell_type": "markdown",
   "metadata": {
    "id": "ZsHlE17nGl4L"
   },
   "source": [
    "## One-Hot Encoding"
   ]
  },
  {
   "cell_type": "code",
   "execution_count": 98,
   "metadata": {
    "id": "MTEEbBoaGmrw"
   },
   "outputs": [],
   "source": [
    "# Employ one-hot encoding on your training labels.\n",
    "train_labels = keras.utils.to_categorical(train_labels, num_classes)\n",
    "\n",
    "# Employ one-hot encoding on your test labels.\n",
    "test_labels = keras.utils.to_categorical(test_labels, num_classes)"
   ]
  },
  {
   "cell_type": "markdown",
   "metadata": {
    "id": "XanzYyhqIceK"
   },
   "source": [
    "# Building the Network\n",
    "Neural networks learn to accomplish their tasks by reading training data and adjusting their neuron weights to improve their chance of choosing the correct answer."
   ]
  },
  {
   "cell_type": "markdown",
   "metadata": {
    "id": "_4eeuJgwIm94"
   },
   "source": [
    "## Import Model and Layers"
   ]
  },
  {
   "cell_type": "code",
   "execution_count": 99,
   "metadata": {
    "id": "RLsacdUqIhio"
   },
   "outputs": [],
   "source": [
    "# Import the Sequential model.\n",
    "from tensorflow.keras.models import Sequential\n",
    "\n",
    "# Import the Dense and Flatten layers.\n",
    "from tensorflow.keras.layers import Dense, Flatten"
   ]
  },
  {
   "cell_type": "markdown",
   "metadata": {
    "id": "M3_FRvX5IzWU"
   },
   "source": [
    "## Epochs and Model Layers\n"
   ]
  },
  {
   "cell_type": "code",
   "execution_count": 100,
   "metadata": {
    "id": "xRWFzpeGJBEk"
   },
   "outputs": [
    {
     "name": "stdout",
     "output_type": "stream",
     "text": [
      "Model: \"sequential_5\"\n",
      "_________________________________________________________________\n",
      " Layer (type)                Output Shape              Param #   \n",
      "=================================================================\n",
      " flatten_5 (Flatten)         (None, 784)               0         \n",
      "                                                                 \n",
      " dense_8 (Dense)             (None, 16)                12560     \n",
      "                                                                 \n",
      " dense_9 (Dense)             (None, 10)                170       \n",
      "                                                                 \n",
      "=================================================================\n",
      "Total params: 12730 (49.73 KB)\n",
      "Trainable params: 12730 (49.73 KB)\n",
      "Non-trainable params: 0 (0.00 Byte)\n",
      "_________________________________________________________________\n"
     ]
    }
   ],
   "source": [
    "# Create a variable called epochs and set the value as 10.\n",
    "epochs = 10\n",
    "\n",
    "# Create a new model object using the Keras Sequential.\n",
    "model = Sequential()\n",
    "\n",
    "# Add a Flatten layer and pass the input shape as an argument.\n",
    "model.add(Flatten(input_shape=input_shape))\n",
    "\n",
    "# Add a Dense layer to your network with the size of the layers in neurons and relu as the activation function.\n",
    "model.add(Dense(16, activation='relu'))\n",
    "\n",
    "# Add an output layer.\n",
    "model.add(Dense(10, activation='softmax'))\n",
    "\n",
    "# Print a summary of your network so far.\n",
    "model.summary()"
   ]
  },
  {
   "cell_type": "markdown",
   "metadata": {
    "id": "ldmLMHqRLFbE"
   },
   "source": [
    "# Training the Network\n",
    "TensorFlow has a command that will do a lot of the work for you, but you still need to set up a few arguments so that this network is compiled in a useful way."
   ]
  },
  {
   "cell_type": "markdown",
   "metadata": {
    "id": "bQwwYekXLLRh"
   },
   "source": [
    "## Compile the Network"
   ]
  },
  {
   "cell_type": "code",
   "execution_count": 101,
   "metadata": {
    "id": "75V8MJfbLJ5N"
   },
   "outputs": [],
   "source": [
    "# Add the compile function that calculates the loss and uses the optimizer parameter to set the optimization algorithm.\n",
    "model.compile(loss='categorical_crossentropy', optimizer='adam', metrics=['accuracy'])"
   ]
  },
  {
   "cell_type": "markdown",
   "metadata": {
    "id": "ichoNcbPLvNi"
   },
   "source": [
    "## Training"
   ]
  },
  {
   "cell_type": "code",
   "execution_count": 106,
   "metadata": {
    "id": "g5i4WUsFLwIy"
   },
   "outputs": [
    {
     "name": "stdout",
     "output_type": "stream",
     "text": [
      "Epoch 1/100\n",
      "1875/1875 [==============================] - 1s 768us/step - loss: 0.1202 - accuracy: 0.9641\n",
      "Epoch 2/100\n",
      "1875/1875 [==============================] - 1s 760us/step - loss: 0.1165 - accuracy: 0.9654\n",
      "Epoch 3/100\n",
      "1875/1875 [==============================] - 1s 765us/step - loss: 0.1128 - accuracy: 0.9663\n",
      "Epoch 4/100\n",
      "1875/1875 [==============================] - 1s 770us/step - loss: 0.1097 - accuracy: 0.9673\n",
      "Epoch 5/100\n",
      "1875/1875 [==============================] - 1s 777us/step - loss: 0.1065 - accuracy: 0.9685\n",
      "Epoch 6/100\n",
      "1875/1875 [==============================] - 1s 776us/step - loss: 0.1035 - accuracy: 0.9688\n",
      "Epoch 7/100\n",
      "1875/1875 [==============================] - 1s 770us/step - loss: 0.1020 - accuracy: 0.9685\n",
      "Epoch 8/100\n",
      "1875/1875 [==============================] - 1s 764us/step - loss: 0.0994 - accuracy: 0.9701\n",
      "Epoch 9/100\n",
      "1875/1875 [==============================] - 1s 763us/step - loss: 0.0975 - accuracy: 0.9708\n",
      "Epoch 10/100\n",
      "1875/1875 [==============================] - 1s 766us/step - loss: 0.0951 - accuracy: 0.9714\n",
      "Epoch 11/100\n",
      "1875/1875 [==============================] - 1s 774us/step - loss: 0.0932 - accuracy: 0.9722\n",
      "Epoch 12/100\n",
      "1875/1875 [==============================] - 1s 766us/step - loss: 0.0921 - accuracy: 0.9719\n",
      "Epoch 13/100\n",
      "1875/1875 [==============================] - 1s 770us/step - loss: 0.0908 - accuracy: 0.9731\n",
      "Epoch 14/100\n",
      "1875/1875 [==============================] - 2s 803us/step - loss: 0.0893 - accuracy: 0.9733\n",
      "Epoch 15/100\n",
      "1875/1875 [==============================] - 1s 795us/step - loss: 0.0867 - accuracy: 0.9739\n",
      "Epoch 16/100\n",
      "1875/1875 [==============================] - 1s 777us/step - loss: 0.0866 - accuracy: 0.9738\n",
      "Epoch 17/100\n",
      "1875/1875 [==============================] - 1s 782us/step - loss: 0.0852 - accuracy: 0.9744\n",
      "Epoch 18/100\n",
      "1875/1875 [==============================] - 1s 783us/step - loss: 0.0847 - accuracy: 0.9742\n",
      "Epoch 19/100\n",
      "1875/1875 [==============================] - 1s 759us/step - loss: 0.0827 - accuracy: 0.9748\n",
      "Epoch 20/100\n",
      "1875/1875 [==============================] - 1s 770us/step - loss: 0.0811 - accuracy: 0.9755\n",
      "Epoch 21/100\n",
      "1875/1875 [==============================] - 1s 761us/step - loss: 0.0811 - accuracy: 0.9756\n",
      "Epoch 22/100\n",
      "1875/1875 [==============================] - 1s 763us/step - loss: 0.0791 - accuracy: 0.9755\n",
      "Epoch 23/100\n",
      "1875/1875 [==============================] - 1s 770us/step - loss: 0.0780 - accuracy: 0.9764\n",
      "Epoch 24/100\n",
      "1875/1875 [==============================] - 1s 773us/step - loss: 0.0775 - accuracy: 0.9760\n",
      "Epoch 25/100\n",
      "1875/1875 [==============================] - 1s 766us/step - loss: 0.0766 - accuracy: 0.9763\n",
      "Epoch 26/100\n",
      "1875/1875 [==============================] - 1s 770us/step - loss: 0.0755 - accuracy: 0.9773\n",
      "Epoch 27/100\n",
      "1875/1875 [==============================] - 1s 761us/step - loss: 0.0749 - accuracy: 0.9773\n",
      "Epoch 28/100\n",
      "1875/1875 [==============================] - 1s 776us/step - loss: 0.0735 - accuracy: 0.9777\n",
      "Epoch 29/100\n",
      "1875/1875 [==============================] - 1s 761us/step - loss: 0.0734 - accuracy: 0.9773\n",
      "Epoch 30/100\n",
      "1875/1875 [==============================] - 1s 765us/step - loss: 0.0729 - accuracy: 0.9773\n",
      "Epoch 31/100\n",
      "1875/1875 [==============================] - 1s 763us/step - loss: 0.0713 - accuracy: 0.9782\n",
      "Epoch 32/100\n",
      "1875/1875 [==============================] - 1s 769us/step - loss: 0.0707 - accuracy: 0.9790\n",
      "Epoch 33/100\n",
      "1875/1875 [==============================] - 1s 757us/step - loss: 0.0704 - accuracy: 0.9785\n",
      "Epoch 34/100\n",
      "1875/1875 [==============================] - 1s 778us/step - loss: 0.0702 - accuracy: 0.9787\n",
      "Epoch 35/100\n",
      "1875/1875 [==============================] - 1s 760us/step - loss: 0.0681 - accuracy: 0.9792\n",
      "Epoch 36/100\n",
      "1875/1875 [==============================] - 1s 771us/step - loss: 0.0683 - accuracy: 0.9788\n",
      "Epoch 37/100\n",
      "1875/1875 [==============================] - 1s 770us/step - loss: 0.0671 - accuracy: 0.9799\n",
      "Epoch 38/100\n",
      "1875/1875 [==============================] - 1s 787us/step - loss: 0.0666 - accuracy: 0.9794\n",
      "Epoch 39/100\n",
      "1875/1875 [==============================] - 2s 813us/step - loss: 0.0659 - accuracy: 0.9793\n",
      "Epoch 40/100\n",
      "1875/1875 [==============================] - 1s 771us/step - loss: 0.0654 - accuracy: 0.9799\n",
      "Epoch 41/100\n",
      "1875/1875 [==============================] - 1s 783us/step - loss: 0.0649 - accuracy: 0.9804\n",
      "Epoch 42/100\n",
      "1875/1875 [==============================] - 1s 776us/step - loss: 0.0643 - accuracy: 0.9802\n",
      "Epoch 43/100\n",
      "1875/1875 [==============================] - 1s 773us/step - loss: 0.0641 - accuracy: 0.9806\n",
      "Epoch 44/100\n",
      "1875/1875 [==============================] - 1s 775us/step - loss: 0.0633 - accuracy: 0.9809\n",
      "Epoch 45/100\n",
      "1875/1875 [==============================] - 1s 774us/step - loss: 0.0627 - accuracy: 0.9808\n",
      "Epoch 46/100\n",
      "1875/1875 [==============================] - 1s 766us/step - loss: 0.0631 - accuracy: 0.9805\n",
      "Epoch 47/100\n",
      "1875/1875 [==============================] - 1s 768us/step - loss: 0.0618 - accuracy: 0.9804\n",
      "Epoch 48/100\n",
      "1875/1875 [==============================] - 1s 797us/step - loss: 0.0614 - accuracy: 0.9814\n",
      "Epoch 49/100\n",
      "1875/1875 [==============================] - 1s 790us/step - loss: 0.0610 - accuracy: 0.9812\n",
      "Epoch 50/100\n",
      "1875/1875 [==============================] - 1s 778us/step - loss: 0.0603 - accuracy: 0.9818\n",
      "Epoch 51/100\n",
      "1875/1875 [==============================] - 1s 781us/step - loss: 0.0601 - accuracy: 0.9816\n",
      "Epoch 52/100\n",
      "1875/1875 [==============================] - 1s 796us/step - loss: 0.0598 - accuracy: 0.9818\n",
      "Epoch 53/100\n",
      "1875/1875 [==============================] - 1s 784us/step - loss: 0.0590 - accuracy: 0.9819\n",
      "Epoch 54/100\n",
      "1875/1875 [==============================] - 1s 792us/step - loss: 0.0582 - accuracy: 0.9821\n",
      "Epoch 55/100\n",
      "1875/1875 [==============================] - 1s 795us/step - loss: 0.0580 - accuracy: 0.9823\n",
      "Epoch 56/100\n",
      "1875/1875 [==============================] - 1s 774us/step - loss: 0.0579 - accuracy: 0.9822\n",
      "Epoch 57/100\n",
      "1875/1875 [==============================] - 1s 790us/step - loss: 0.0577 - accuracy: 0.9822\n",
      "Epoch 58/100\n",
      "1875/1875 [==============================] - 1s 759us/step - loss: 0.0561 - accuracy: 0.9823\n",
      "Epoch 59/100\n",
      "1875/1875 [==============================] - 1s 779us/step - loss: 0.0568 - accuracy: 0.9832\n",
      "Epoch 60/100\n",
      "1875/1875 [==============================] - 1s 762us/step - loss: 0.0565 - accuracy: 0.9826\n",
      "Epoch 61/100\n",
      "1875/1875 [==============================] - 1s 778us/step - loss: 0.0554 - accuracy: 0.9827\n",
      "Epoch 62/100\n",
      "1875/1875 [==============================] - 1s 770us/step - loss: 0.0554 - accuracy: 0.9830\n",
      "Epoch 63/100\n",
      "1875/1875 [==============================] - 1s 766us/step - loss: 0.0545 - accuracy: 0.9833\n",
      "Epoch 64/100\n",
      "1875/1875 [==============================] - 1s 766us/step - loss: 0.0539 - accuracy: 0.9832\n",
      "Epoch 65/100\n",
      "1875/1875 [==============================] - 1s 774us/step - loss: 0.0535 - accuracy: 0.9837\n",
      "Epoch 66/100\n",
      "1875/1875 [==============================] - 1s 773us/step - loss: 0.0537 - accuracy: 0.9829\n",
      "Epoch 67/100\n",
      "1875/1875 [==============================] - 1s 765us/step - loss: 0.0540 - accuracy: 0.9826\n",
      "Epoch 68/100\n",
      "1875/1875 [==============================] - 1s 765us/step - loss: 0.0528 - accuracy: 0.9832\n",
      "Epoch 69/100\n",
      "1875/1875 [==============================] - 1s 771us/step - loss: 0.0525 - accuracy: 0.9840\n",
      "Epoch 70/100\n",
      "1875/1875 [==============================] - 1s 768us/step - loss: 0.0513 - accuracy: 0.9841\n",
      "Epoch 71/100\n",
      "1875/1875 [==============================] - 1s 772us/step - loss: 0.0521 - accuracy: 0.9839\n",
      "Epoch 72/100\n",
      "1875/1875 [==============================] - 1s 773us/step - loss: 0.0517 - accuracy: 0.9837\n",
      "Epoch 73/100\n",
      "1875/1875 [==============================] - 1s 768us/step - loss: 0.0516 - accuracy: 0.9836\n",
      "Epoch 74/100\n",
      "1875/1875 [==============================] - 1s 767us/step - loss: 0.0507 - accuracy: 0.9842\n",
      "Epoch 75/100\n",
      "1875/1875 [==============================] - 1s 789us/step - loss: 0.0501 - accuracy: 0.9849\n",
      "Epoch 76/100\n",
      "1875/1875 [==============================] - 1s 766us/step - loss: 0.0497 - accuracy: 0.9846\n",
      "Epoch 77/100\n",
      "1875/1875 [==============================] - 1s 773us/step - loss: 0.0495 - accuracy: 0.9848\n",
      "Epoch 78/100\n",
      "1875/1875 [==============================] - 1s 775us/step - loss: 0.0499 - accuracy: 0.9847\n",
      "Epoch 79/100\n",
      "1875/1875 [==============================] - 1s 763us/step - loss: 0.0495 - accuracy: 0.9849\n",
      "Epoch 80/100\n",
      "1875/1875 [==============================] - 1s 772us/step - loss: 0.0489 - accuracy: 0.9852\n",
      "Epoch 81/100\n",
      "1875/1875 [==============================] - 1s 770us/step - loss: 0.0492 - accuracy: 0.9845\n",
      "Epoch 82/100\n",
      "1875/1875 [==============================] - 1s 773us/step - loss: 0.0477 - accuracy: 0.9855\n",
      "Epoch 83/100\n",
      "1875/1875 [==============================] - 1s 772us/step - loss: 0.0477 - accuracy: 0.9849\n",
      "Epoch 84/100\n",
      "1875/1875 [==============================] - 1s 774us/step - loss: 0.0478 - accuracy: 0.9852\n",
      "Epoch 85/100\n",
      "1875/1875 [==============================] - 1s 770us/step - loss: 0.0471 - accuracy: 0.9857\n",
      "Epoch 86/100\n",
      "1875/1875 [==============================] - 1s 787us/step - loss: 0.0470 - accuracy: 0.9849\n",
      "Epoch 87/100\n",
      "1875/1875 [==============================] - 1s 770us/step - loss: 0.0461 - accuracy: 0.9853\n",
      "Epoch 88/100\n",
      "1875/1875 [==============================] - 1s 783us/step - loss: 0.0464 - accuracy: 0.9858\n",
      "Epoch 89/100\n",
      "1875/1875 [==============================] - 1s 779us/step - loss: 0.0468 - accuracy: 0.9854\n",
      "Epoch 90/100\n",
      "1875/1875 [==============================] - 1s 769us/step - loss: 0.0454 - accuracy: 0.9859\n",
      "Epoch 91/100\n",
      "1875/1875 [==============================] - 1s 764us/step - loss: 0.0462 - accuracy: 0.9852\n",
      "Epoch 92/100\n",
      "1875/1875 [==============================] - 1s 777us/step - loss: 0.0453 - accuracy: 0.9859\n",
      "Epoch 93/100\n",
      "1875/1875 [==============================] - 1s 767us/step - loss: 0.0453 - accuracy: 0.9857\n",
      "Epoch 94/100\n",
      "1875/1875 [==============================] - 1s 797us/step - loss: 0.0444 - accuracy: 0.9859\n",
      "Epoch 95/100\n",
      "1875/1875 [==============================] - 1s 795us/step - loss: 0.0448 - accuracy: 0.9858\n",
      "Epoch 96/100\n",
      "1875/1875 [==============================] - 1s 784us/step - loss: 0.0440 - accuracy: 0.9860\n",
      "Epoch 97/100\n",
      "1875/1875 [==============================] - 1s 781us/step - loss: 0.0437 - accuracy: 0.9868\n",
      "Epoch 98/100\n",
      "1875/1875 [==============================] - 1s 784us/step - loss: 0.0440 - accuracy: 0.9860\n",
      "Epoch 99/100\n",
      "1875/1875 [==============================] - 1s 769us/step - loss: 0.0434 - accuracy: 0.9867\n",
      "Epoch 100/100\n",
      "1875/1875 [==============================] - 1s 769us/step - loss: 0.0432 - accuracy: 0.9863\n"
     ]
    },
    {
     "data": {
      "text/plain": [
       "<keras.src.callbacks.History at 0x1e7888aed10>"
      ]
     },
     "execution_count": 106,
     "metadata": {},
     "output_type": "execute_result"
    }
   ],
   "source": [
    "# Add the fit function and set the input data for the model so the network doesn't rely on a pattern to learn.\n",
    "model.fit(train_images, train_labels, epochs=100, shuffle=True)"
   ]
  },
  {
   "cell_type": "markdown",
   "metadata": {
    "id": "RtCk_-PUL3j8"
   },
   "source": [
    "## Analyzing the Output"
   ]
  },
  {
   "cell_type": "code",
   "execution_count": 107,
   "metadata": {
    "id": "-QlE5OzyL4YA"
   },
   "outputs": [
    {
     "name": "stdout",
     "output_type": "stream",
     "text": [
      "313/313 - 0s - loss: 0.2312 - accuracy: 0.9553 - 213ms/epoch - 679us/step\n",
      "\n",
      "Test accuracy: 0.955299973487854\n"
     ]
    }
   ],
   "source": [
    "# Calculate the loss and accuracy of your model.\n",
    "test_loss, test_acc = model.evaluate(test_images, test_labels, verbose=2)\n",
    "\n",
    "# Print out the test accuracy.\n",
    "print('\\nTest accuracy:', test_acc)"
   ]
  },
  {
   "cell_type": "markdown",
   "metadata": {
    "id": "ZN-OucAVMOxG"
   },
   "source": [
    "## Exporting the Model"
   ]
  },
  {
   "cell_type": "code",
   "execution_count": 108,
   "metadata": {
    "id": "2egXOIbgMQBC"
   },
   "outputs": [],
   "source": [
    "# Export your model\n",
    "model.save(\"digit_classification.h5\")"
   ]
  },
  {
   "cell_type": "code",
   "execution_count": null,
   "metadata": {},
   "outputs": [],
   "source": []
  }
 ],
 "metadata": {
  "colab": {
   "provenance": []
  },
  "kernelspec": {
   "display_name": "Python 3 (ipykernel)",
   "language": "python",
   "name": "python3"
  },
  "language_info": {
   "codemirror_mode": {
    "name": "ipython",
    "version": 3
   },
   "file_extension": ".py",
   "mimetype": "text/x-python",
   "name": "python",
   "nbconvert_exporter": "python",
   "pygments_lexer": "ipython3",
   "version": "3.10.0"
  }
 },
 "nbformat": 4,
 "nbformat_minor": 4
}
