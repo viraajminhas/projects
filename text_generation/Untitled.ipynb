{
 "cells": [
  {
   "cell_type": "code",
   "execution_count": 56,
   "id": "781ea6e4-0712-4020-8f09-77a725a5af50",
   "metadata": {},
   "outputs": [
    {
     "name": "stderr",
     "output_type": "stream",
     "text": [
      "Downloading readme: 100%|█████████████████████████████████████████████████████████████████| 13.8k/13.8k [00:00<?, ?B/s]\n",
      "Downloading data: 100%|█████████████████████████████████████████████████████████████| 594k/594k [00:00<00:00, 1.49MB/s]\n",
      "Downloading data: 100%|█████████████████████████████████████████████████████████████| 264k/264k [00:00<00:00, 1.06MB/s]\n",
      "Downloading data: 100%|███████████████████████████████████████████████████████████| 2.00M/2.00M [00:00<00:00, 4.57MB/s]\n",
      "Generating test split: 100%|███████████████████████████████████████████| 6165/6165 [00:00<00:00, 1030728.43 examples/s]\n",
      "Generating validation split: 100%|██████████████████████████████████████| 2733/2733 [00:00<00:00, 685383.13 examples/s]\n",
      "Generating train split: 100%|████████████████████████████████████████| 20360/20360 [00:00<00:00, 1361891.26 examples/s]\n"
     ]
    }
   ],
   "source": [
    "from datasets import load_dataset\n",
    "\n",
    "ds = load_dataset(\"microsoft/wiki_qa\")"
   ]
  },
  {
   "cell_type": "code",
   "execution_count": 65,
   "id": "a5829234-559e-4840-88c6-1a8c454eb09a",
   "metadata": {},
   "outputs": [],
   "source": [
    "import pandas as pd\n",
    "\n",
    "splits = {'test': 'data/test-00000-of-00001.parquet', 'validation': 'data/validation-00000-of-00001.parquet', 'train': 'data/train-00000-of-00001.parquet'}\n",
    "df = pd.read_parquet(\"hf://datasets/microsoft/wiki_qa/\" + splits[\"test\"])"
   ]
  },
  {
   "cell_type": "code",
   "execution_count": 66,
   "id": "485ab37d-2c0c-4716-a7ea-806521a37572",
   "metadata": {},
   "outputs": [],
   "source": [
    "df=df.drop([\"question_id\", \"document_title\", \"label\"], axis=1)\n"
   ]
  },
  {
   "cell_type": "code",
   "execution_count": 82,
   "id": "be9385f7-3679-465c-95e6-072c123fda4f",
   "metadata": {},
   "outputs": [],
   "source": [
    "input_data=[]\n",
    "classes=[]\n"
   ]
  },
  {
   "cell_type": "code",
   "execution_count": 77,
   "id": "cd1cf4c3-a5a9-494b-b736-88791beb9e44",
   "metadata": {},
   "outputs": [],
   "source": [
    "for i in range(len(df)):\n",
    "    input_data.append(df[\"question\"][i])\n",
    "    "
   ]
  },
  {
   "cell_type": "code",
   "execution_count": 79,
   "id": "88a3928d-425f-489a-a72d-08de01d01a02",
   "metadata": {},
   "outputs": [
    {
     "data": {
      "text/plain": [
       "6165"
      ]
     },
     "execution_count": 79,
     "metadata": {},
     "output_type": "execute_result"
    }
   ],
   "source": [
    "len(input_data)"
   ]
  },
  {
   "cell_type": "code",
   "execution_count": 83,
   "id": "7beb33c5-063e-4aec-acc8-d074bd1075d4",
   "metadata": {},
   "outputs": [],
   "source": [
    "for i in range(len(df)):\n",
    "    output_data.append(df[\"answer\"][i])"
   ]
  },
  {
   "cell_type": "code",
   "execution_count": 85,
   "id": "bd7fab56-b995-4d94-ab62-6d168bfed559",
   "metadata": {},
   "outputs": [
    {
     "data": {
      "text/plain": [
       "6165"
      ]
     },
     "execution_count": 85,
     "metadata": {},
     "output_type": "execute_result"
    }
   ],
   "source": [
    "len(output_data)"
   ]
  },
  {
   "cell_type": "code",
   "execution_count": 86,
   "id": "d423c37b-8a32-4182-af1e-515a49167cbd",
   "metadata": {},
   "outputs": [
    {
     "data": {
      "text/html": [
       "<div>\n",
       "<style scoped>\n",
       "    .dataframe tbody tr th:only-of-type {\n",
       "        vertical-align: middle;\n",
       "    }\n",
       "\n",
       "    .dataframe tbody tr th {\n",
       "        vertical-align: top;\n",
       "    }\n",
       "\n",
       "    .dataframe thead th {\n",
       "        text-align: right;\n",
       "    }\n",
       "</style>\n",
       "<table border=\"1\" class=\"dataframe\">\n",
       "  <thead>\n",
       "    <tr style=\"text-align: right;\">\n",
       "      <th></th>\n",
       "      <th>question</th>\n",
       "      <th>answer</th>\n",
       "    </tr>\n",
       "  </thead>\n",
       "  <tbody>\n",
       "    <tr>\n",
       "      <th>0</th>\n",
       "      <td>HOW AFRICAN AMERICANS WERE IMMIGRATED TO THE US</td>\n",
       "      <td>African immigration to the United States refer...</td>\n",
       "    </tr>\n",
       "    <tr>\n",
       "      <th>1</th>\n",
       "      <td>HOW AFRICAN AMERICANS WERE IMMIGRATED TO THE US</td>\n",
       "      <td>The term African in the scope of this article ...</td>\n",
       "    </tr>\n",
       "    <tr>\n",
       "      <th>2</th>\n",
       "      <td>HOW AFRICAN AMERICANS WERE IMMIGRATED TO THE US</td>\n",
       "      <td>From the Immigration and Nationality Act of 19...</td>\n",
       "    </tr>\n",
       "    <tr>\n",
       "      <th>3</th>\n",
       "      <td>HOW AFRICAN AMERICANS WERE IMMIGRATED TO THE US</td>\n",
       "      <td>African immigrants in the United States come f...</td>\n",
       "    </tr>\n",
       "    <tr>\n",
       "      <th>4</th>\n",
       "      <td>HOW AFRICAN AMERICANS WERE IMMIGRATED TO THE US</td>\n",
       "      <td>They include people from different national, l...</td>\n",
       "    </tr>\n",
       "    <tr>\n",
       "      <th>...</th>\n",
       "      <td>...</td>\n",
       "      <td>...</td>\n",
       "    </tr>\n",
       "    <tr>\n",
       "      <th>6160</th>\n",
       "      <td>what is an open mare?</td>\n",
       "      <td>The word can also be used for other female equ...</td>\n",
       "    </tr>\n",
       "    <tr>\n",
       "      <th>6161</th>\n",
       "      <td>what is an open mare?</td>\n",
       "      <td>A broodmare is a mare used for breeding.</td>\n",
       "    </tr>\n",
       "    <tr>\n",
       "      <th>6162</th>\n",
       "      <td>what is an open mare?</td>\n",
       "      <td>A horse's female parent is known as its dam.</td>\n",
       "    </tr>\n",
       "    <tr>\n",
       "      <th>6163</th>\n",
       "      <td>what is an open mare?</td>\n",
       "      <td>An adult male horse is called a stallion , or,...</td>\n",
       "    </tr>\n",
       "    <tr>\n",
       "      <th>6164</th>\n",
       "      <td>what is an open mare?</td>\n",
       "      <td>Occasionally the term \"horse\" is used in a res...</td>\n",
       "    </tr>\n",
       "  </tbody>\n",
       "</table>\n",
       "<p>6165 rows × 2 columns</p>\n",
       "</div>"
      ],
      "text/plain": [
       "                                             question  \\\n",
       "0     HOW AFRICAN AMERICANS WERE IMMIGRATED TO THE US   \n",
       "1     HOW AFRICAN AMERICANS WERE IMMIGRATED TO THE US   \n",
       "2     HOW AFRICAN AMERICANS WERE IMMIGRATED TO THE US   \n",
       "3     HOW AFRICAN AMERICANS WERE IMMIGRATED TO THE US   \n",
       "4     HOW AFRICAN AMERICANS WERE IMMIGRATED TO THE US   \n",
       "...                                               ...   \n",
       "6160                            what is an open mare?   \n",
       "6161                            what is an open mare?   \n",
       "6162                            what is an open mare?   \n",
       "6163                            what is an open mare?   \n",
       "6164                            what is an open mare?   \n",
       "\n",
       "                                                 answer  \n",
       "0     African immigration to the United States refer...  \n",
       "1     The term African in the scope of this article ...  \n",
       "2     From the Immigration and Nationality Act of 19...  \n",
       "3     African immigrants in the United States come f...  \n",
       "4     They include people from different national, l...  \n",
       "...                                                 ...  \n",
       "6160  The word can also be used for other female equ...  \n",
       "6161           A broodmare is a mare used for breeding.  \n",
       "6162       A horse's female parent is known as its dam.  \n",
       "6163  An adult male horse is called a stallion , or,...  \n",
       "6164  Occasionally the term \"horse\" is used in a res...  \n",
       "\n",
       "[6165 rows x 2 columns]"
      ]
     },
     "execution_count": 86,
     "metadata": {},
     "output_type": "execute_result"
    }
   ],
   "source": [
    "df"
   ]
  },
  {
   "cell_type": "code",
   "execution_count": null,
   "id": "16050544-aa9b-4757-ad42-4e58bee2bdbe",
   "metadata": {},
   "outputs": [
    {
     "name": "stderr",
     "output_type": "stream",
     "text": [
      "Downloading readme: 100%|█████████████████████████████████████████████████████████████████| 13.7k/13.7k [00:00<?, ?B/s]\n",
      "Downloading data:  36%|█████████████████████▏                                     | 103/287 [34:25<59:50, 19.51s/files]"
     ]
    }
   ],
   "source": [
    "from datasets import load_dataset\n",
    "\n",
    "ds = load_dataset(\"google-research-datasets/natural_questions\", \"default\")"
   ]
  },
  {
   "cell_type": "code",
   "execution_count": null,
   "id": "b81b2eac-7877-478b-b15b-85806811b036",
   "metadata": {},
   "outputs": [],
   "source": [
    "splits = {'test': 'data/test-00000-of-00001.parquet', 'validation': 'data/validation-00000-of-00001.parquet', 'train': 'data/train-00000-of-00001.parquet'}\n",
    "df = pd.read_parquet(\"google-research-datasets/natural_questions\" + splits[\"test\"])\n"
   ]
  },
  {
   "cell_type": "code",
   "execution_count": null,
   "id": "24e1c79e-8adc-4616-871c-a7a6f65f356a",
   "metadata": {},
   "outputs": [],
   "source": []
  }
 ],
 "metadata": {
  "kernelspec": {
   "display_name": "Python 3 (ipykernel)",
   "language": "python",
   "name": "python3"
  },
  "language_info": {
   "codemirror_mode": {
    "name": "ipython",
    "version": 3
   },
   "file_extension": ".py",
   "mimetype": "text/x-python",
   "name": "python",
   "nbconvert_exporter": "python",
   "pygments_lexer": "ipython3",
   "version": "3.10.0"
  }
 },
 "nbformat": 4,
 "nbformat_minor": 5
}
